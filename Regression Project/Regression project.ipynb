{
 "cells": [
  {
   "cell_type": "markdown",
   "id": "5c4b58ef",
   "metadata": {},
   "source": [
    "<b>As a Data Scientist you have been given a task from \"Car Dekho\" company to create a model to estimate the price of a car using some features ."
   ]
  },
  {
   "cell_type": "markdown",
   "id": "32ac8964",
   "metadata": {},
   "source": [
    "<img src = \"cars1.jpg\" >"
   ]
  },
  {
   "cell_type": "markdown",
   "id": "3e507760",
   "metadata": {},
   "source": [
    "# About the dataset"
   ]
  },
  {
   "cell_type": "markdown",
   "id": "4b20d178",
   "metadata": {},
   "source": [
    "This dataset contains information about used cars.\n",
    "This data can be used for a lot of purposes such as price prediction to exemplify the use of linear regression in Machine Learning.\n",
    "The columns in the given dataset are as follows:\n",
    "<ul>\n",
    "<li>name : This column should be filled with the name of the car.\n",
    "<li>year : This column should be filled with the year in which the car was bought.\n",
    "<li>selling_price : This column should be filled with the price the owner wants to sell the car at.\n",
    "<li>km_driven : This is the distance completed by the car in km.\n",
    "<li>fuel : Fuel type of the car.\n",
    "<li>seller_type : Defines whether the seller is a dealer or an individual.\n",
    "<li>transmission : Defines whether the car is manual or automatic.\n",
    "<li>Owner : Defines the number of owners the car has previously had."
   ]
  },
  {
   "cell_type": "markdown",
   "id": "92fedc11",
   "metadata": {},
   "source": [
    "# Step 1 : Import the libraries "
   ]
  },
  {
   "cell_type": "markdown",
   "id": "ade6cdf8",
   "metadata": {},
   "source": [
    "import all the important libraries needed initially"
   ]
  },
  {
   "cell_type": "code",
   "execution_count": null,
   "id": "805f53d1",
   "metadata": {},
   "outputs": [],
   "source": []
  },
  {
   "cell_type": "code",
   "execution_count": null,
   "id": "292f9d8b",
   "metadata": {},
   "outputs": [],
   "source": []
  },
  {
   "cell_type": "code",
   "execution_count": null,
   "id": "fb0cbc31",
   "metadata": {},
   "outputs": [],
   "source": []
  },
  {
   "cell_type": "markdown",
   "id": "7b3164d1",
   "metadata": {},
   "source": [
    "# Step 2 : EDA "
   ]
  },
  {
   "cell_type": "code",
   "execution_count": null,
   "id": "08a6ad7c",
   "metadata": {},
   "outputs": [],
   "source": []
  },
  {
   "cell_type": "code",
   "execution_count": null,
   "id": "5816feb8",
   "metadata": {},
   "outputs": [],
   "source": []
  },
  {
   "cell_type": "code",
   "execution_count": null,
   "id": "649f714f",
   "metadata": {},
   "outputs": [],
   "source": []
  },
  {
   "cell_type": "markdown",
   "id": "6fce9b4a",
   "metadata": {},
   "source": [
    "# Step 3 : Encoding / Standarization / Normalization if needed "
   ]
  },
  {
   "cell_type": "code",
   "execution_count": null,
   "id": "95640710",
   "metadata": {},
   "outputs": [],
   "source": []
  },
  {
   "cell_type": "code",
   "execution_count": null,
   "id": "c931d3eb",
   "metadata": {},
   "outputs": [],
   "source": []
  },
  {
   "cell_type": "code",
   "execution_count": null,
   "id": "8ce62dd6",
   "metadata": {},
   "outputs": [],
   "source": []
  },
  {
   "cell_type": "markdown",
   "id": "be0bd8a6",
   "metadata": {},
   "source": [
    "# Step 4 : Split the dataset"
   ]
  },
  {
   "cell_type": "code",
   "execution_count": null,
   "id": "8e6a5be5",
   "metadata": {},
   "outputs": [],
   "source": []
  },
  {
   "cell_type": "code",
   "execution_count": null,
   "id": "7f49ab35",
   "metadata": {},
   "outputs": [],
   "source": []
  },
  {
   "cell_type": "code",
   "execution_count": null,
   "id": "deabc4e8",
   "metadata": {},
   "outputs": [],
   "source": []
  },
  {
   "cell_type": "markdown",
   "id": "42a44990",
   "metadata": {},
   "source": [
    "# Step 6 : Train the model "
   ]
  },
  {
   "cell_type": "code",
   "execution_count": null,
   "id": "1d57e181",
   "metadata": {},
   "outputs": [],
   "source": []
  },
  {
   "cell_type": "code",
   "execution_count": null,
   "id": "dcb260c6",
   "metadata": {},
   "outputs": [],
   "source": []
  },
  {
   "cell_type": "code",
   "execution_count": null,
   "id": "831906c1",
   "metadata": {},
   "outputs": [],
   "source": []
  },
  {
   "cell_type": "markdown",
   "id": "9b5996bd",
   "metadata": {},
   "source": [
    "# Step 6 : Prediction "
   ]
  },
  {
   "cell_type": "code",
   "execution_count": null,
   "id": "86863869",
   "metadata": {},
   "outputs": [],
   "source": []
  },
  {
   "cell_type": "code",
   "execution_count": null,
   "id": "0d775e77",
   "metadata": {},
   "outputs": [],
   "source": []
  },
  {
   "cell_type": "code",
   "execution_count": null,
   "id": "e16f5510",
   "metadata": {},
   "outputs": [],
   "source": []
  },
  {
   "cell_type": "markdown",
   "id": "52b8b31a",
   "metadata": {},
   "source": [
    "# Step 8 : Evaluation"
   ]
  },
  {
   "cell_type": "code",
   "execution_count": null,
   "id": "4300cffc",
   "metadata": {},
   "outputs": [],
   "source": []
  },
  {
   "cell_type": "code",
   "execution_count": null,
   "id": "dc9e59aa",
   "metadata": {},
   "outputs": [],
   "source": []
  },
  {
   "cell_type": "code",
   "execution_count": null,
   "id": "315c0b0a",
   "metadata": {},
   "outputs": [],
   "source": []
  },
  {
   "cell_type": "markdown",
   "id": "b43665b1",
   "metadata": {},
   "source": [
    "# Results :\n",
    "If you have followed the above steps nicely you should be getting a good model with some decent results , you can compare your results with the below one . Results may vary but should be nearby to the below results ."
   ]
  },
  {
   "cell_type": "markdown",
   "id": "638fbcb6",
   "metadata": {},
   "source": [
    "<b>  For Training set : </b><br>\n",
    "R squared error :  0.8799451660493711 <br>\n",
    "Mean Absolute Error :  1.2166174093911273 <br>\n",
    "Mean squared error :  3.2590308233090868 <br>\n",
    "Root Mean squared error :  1.8052785999144527 <br>\n",
    "<br>\n",
    "<br>\n",
    "<b> For Test set :</b><br>\n",
    "R squared error :  0.8365766715027051<br>\n",
    "Mean Absolute Error :  1.1516382156613783<br>\n",
    "Mean squared error :  2.1501299189836294<br>\n",
    "Root Mean squared error :  1.4663321311979867<br>"
   ]
  },
  {
   "cell_type": "markdown",
   "id": "1850f99f",
   "metadata": {},
   "source": [
    "## Quite a decent model we have build . Do you have Any other solution which gives better results ? "
   ]
  }
 ],
 "metadata": {
  "kernelspec": {
   "display_name": "Python 3",
   "language": "python",
   "name": "python3"
  },
  "language_info": {
   "codemirror_mode": {
    "name": "ipython",
    "version": 3
   },
   "file_extension": ".py",
   "mimetype": "text/x-python",
   "name": "python",
   "nbconvert_exporter": "python",
   "pygments_lexer": "ipython3",
   "version": "3.8.8"
  }
 },
 "nbformat": 4,
 "nbformat_minor": 5
}
