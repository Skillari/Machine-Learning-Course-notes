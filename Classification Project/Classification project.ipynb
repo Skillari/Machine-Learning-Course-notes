{
 "cells": [
  {
   "cell_type": "markdown",
   "id": "5c4b58ef",
   "metadata": {},
   "source": [
    "<b>As a Data Scientist you have been given a task to create a model to predict the quality of a wine"
   ]
  },
  {
   "cell_type": "markdown",
   "id": "32ac8964",
   "metadata": {},
   "source": [
    "<img src = \"wine.jpeg\" >"
   ]
  },
  {
   "cell_type": "markdown",
   "id": "3e507760",
   "metadata": {},
   "source": [
    "# About the dataset"
   ]
  },
  {
   "cell_type": "markdown",
   "id": "23bf7911",
   "metadata": {},
   "source": [
    "This datasets is related to red variants of the Portuguese \"Vinho Verde\" wine.\n",
    "\n",
    "The datasets can be viewed as classification or regression tasks. The classes are ordered and not balanced (e.g. there are much more normal wines than excellent or poor ones).\n",
    "\n",
    "Content\n",
    "<ul>\n",
    "    <b>Input variables (based on physicochemical tests):</b>\n",
    "<li><b>1 - fixed acidity :</b> most acids involved with wine or fixed or nonvolatile (do not evaporate readily)\n",
    "<li><b>2 - volatile acidity :</b> the amount of acetic acid in wine, which at too high of levels can lead to an unpleasant, vinegar taste\n",
    "<li><b>3 - citric acid :</b> found in small quantities, citric acid can add 'freshness' and flavor to wines\n",
    "<li><b>4 - residual sugar :</b> the amount of sugar remaining after fermentation stops, it's rare to find wines with less than 1 gram/liter and wines with greater than 45 grams/liter are considered sweet\n",
    "<li><b>5 - chlorides :</b> the amount of salt in the wine\n",
    "<li><b>6 - free sulfur dioxide :</b> the free form of SO2 exists in equilibrium between molecular SO2 (as a dissolved gas) and bisulfite ion; it prevents microbial growth and the oxidation of wine\n",
    "<li><b>7 - total sulfur dioxide :</b> amount of free and bound forms of S02; in low concentrations, SO2 is mostly undetectable in wine, but at free SO2 concentrations over 50 ppm, SO2 becomes evident in the nose and taste of wine\n",
    "<li><b>8 - density :</b> the density of water is close to that of water depending on the percent alcohol and sugar content\n",
    "<li><b>9 - pH :</b> describes how acidic or basic a wine is on a scale from 0 (very acidic) to 14 (very basic); most wines are between 3-4 on the pH scale\n",
    "<li><b>10 - sulphates :</b> a wine additive which can contribute to sulfur dioxide gas (S02) levels, wich acts as an antimicrobial and antioxidant\n",
    "<li><b>11 - alcohol </b></li>\n",
    "</ul>\n",
    "<ul>\n",
    "    <b>Output variable (based on sensory data) : </b>\n",
    "<li><b>12 - quality </b>(score between 0 and 10)"
   ]
  },
  {
   "cell_type": "markdown",
   "id": "92fedc11",
   "metadata": {},
   "source": [
    "# Step 1 : Import the libraries "
   ]
  },
  {
   "cell_type": "markdown",
   "id": "ade6cdf8",
   "metadata": {},
   "source": [
    "import all the important libraries needed initially"
   ]
  },
  {
   "cell_type": "code",
   "execution_count": null,
   "id": "805f53d1",
   "metadata": {},
   "outputs": [],
   "source": []
  },
  {
   "cell_type": "code",
   "execution_count": null,
   "id": "292f9d8b",
   "metadata": {},
   "outputs": [],
   "source": []
  },
  {
   "cell_type": "code",
   "execution_count": null,
   "id": "fb0cbc31",
   "metadata": {},
   "outputs": [],
   "source": []
  },
  {
   "cell_type": "markdown",
   "id": "7b3164d1",
   "metadata": {},
   "source": [
    "# Step 2 : EDA "
   ]
  },
  {
   "cell_type": "code",
   "execution_count": null,
   "id": "08a6ad7c",
   "metadata": {},
   "outputs": [],
   "source": []
  },
  {
   "cell_type": "code",
   "execution_count": null,
   "id": "5816feb8",
   "metadata": {},
   "outputs": [],
   "source": []
  },
  {
   "cell_type": "code",
   "execution_count": null,
   "id": "649f714f",
   "metadata": {},
   "outputs": [],
   "source": []
  },
  {
   "cell_type": "markdown",
   "id": "6fce9b4a",
   "metadata": {},
   "source": [
    "# Step 3 : Encoding / Standarization / Normalization if needed "
   ]
  },
  {
   "cell_type": "code",
   "execution_count": null,
   "id": "95640710",
   "metadata": {},
   "outputs": [],
   "source": []
  },
  {
   "cell_type": "code",
   "execution_count": null,
   "id": "c931d3eb",
   "metadata": {},
   "outputs": [],
   "source": []
  },
  {
   "cell_type": "code",
   "execution_count": null,
   "id": "8ce62dd6",
   "metadata": {},
   "outputs": [],
   "source": []
  },
  {
   "cell_type": "markdown",
   "id": "be0bd8a6",
   "metadata": {},
   "source": [
    "# Step 4 : Split the dataset"
   ]
  },
  {
   "cell_type": "code",
   "execution_count": null,
   "id": "8e6a5be5",
   "metadata": {},
   "outputs": [],
   "source": []
  },
  {
   "cell_type": "code",
   "execution_count": null,
   "id": "7f49ab35",
   "metadata": {},
   "outputs": [],
   "source": []
  },
  {
   "cell_type": "code",
   "execution_count": null,
   "id": "deabc4e8",
   "metadata": {},
   "outputs": [],
   "source": []
  },
  {
   "cell_type": "markdown",
   "id": "42a44990",
   "metadata": {},
   "source": [
    "# Step 6 : Train the model "
   ]
  },
  {
   "cell_type": "code",
   "execution_count": null,
   "id": "1d57e181",
   "metadata": {},
   "outputs": [],
   "source": []
  },
  {
   "cell_type": "code",
   "execution_count": null,
   "id": "dcb260c6",
   "metadata": {},
   "outputs": [],
   "source": []
  },
  {
   "cell_type": "code",
   "execution_count": null,
   "id": "831906c1",
   "metadata": {},
   "outputs": [],
   "source": []
  },
  {
   "cell_type": "markdown",
   "id": "9b5996bd",
   "metadata": {},
   "source": [
    "# Step 6 : Prediction "
   ]
  },
  {
   "cell_type": "code",
   "execution_count": null,
   "id": "86863869",
   "metadata": {},
   "outputs": [],
   "source": []
  },
  {
   "cell_type": "code",
   "execution_count": null,
   "id": "0d775e77",
   "metadata": {},
   "outputs": [],
   "source": []
  },
  {
   "cell_type": "code",
   "execution_count": null,
   "id": "e16f5510",
   "metadata": {},
   "outputs": [],
   "source": []
  },
  {
   "cell_type": "markdown",
   "id": "52b8b31a",
   "metadata": {},
   "source": [
    "# Step 8 : Evaluation"
   ]
  },
  {
   "cell_type": "code",
   "execution_count": null,
   "id": "4300cffc",
   "metadata": {},
   "outputs": [],
   "source": []
  },
  {
   "cell_type": "code",
   "execution_count": null,
   "id": "dc9e59aa",
   "metadata": {},
   "outputs": [],
   "source": []
  },
  {
   "cell_type": "code",
   "execution_count": null,
   "id": "315c0b0a",
   "metadata": {},
   "outputs": [],
   "source": []
  },
  {
   "cell_type": "markdown",
   "id": "b43665b1",
   "metadata": {},
   "source": [
    "# Results :\n",
    "If you have followed the above steps nicely you should be getting a good model with some decent results , you can compare your results with the below one . Accuracy may vary but should be in the range to 70 -85% depending the model you choose "
   ]
  },
  {
   "cell_type": "markdown",
   "id": "1850f99f",
   "metadata": {},
   "source": [
    "## Quite a decent model we have build . Do you have Any other solution which gives better results ? "
   ]
  }
 ],
 "metadata": {
  "kernelspec": {
   "display_name": "Python 3",
   "language": "python",
   "name": "python3"
  },
  "language_info": {
   "codemirror_mode": {
    "name": "ipython",
    "version": 3
   },
   "file_extension": ".py",
   "mimetype": "text/x-python",
   "name": "python",
   "nbconvert_exporter": "python",
   "pygments_lexer": "ipython3",
   "version": "3.8.8"
  }
 },
 "nbformat": 4,
 "nbformat_minor": 5
}
