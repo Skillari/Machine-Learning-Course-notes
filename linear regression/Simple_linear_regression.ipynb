{
 "cells": [
  {
   "cell_type": "markdown",
   "metadata": {},
   "source": [
    "# Importing needed libraries"
   ]
  },
  {
   "cell_type": "code",
   "execution_count": 1,
   "metadata": {},
   "outputs": [],
   "source": [
    "import numpy as np\n",
    "import pandas as pd\n",
    "import seaborn as sns\n",
    "import matplotlib.pyplot as plt\n",
    "from sklearn import preprocessing"
   ]
  },
  {
   "cell_type": "code",
   "execution_count": 2,
   "metadata": {},
   "outputs": [],
   "source": [
    "data = pd.read_csv('simple_linear.csv')"
   ]
  },
  {
   "cell_type": "markdown",
   "metadata": {},
   "source": [
    "# Explotary data analysis (EDA)"
   ]
  },
  {
   "cell_type": "code",
   "execution_count": 3,
   "metadata": {},
   "outputs": [
    {
     "data": {
      "text/plain": [
       "(500, 3)"
      ]
     },
     "execution_count": 3,
     "metadata": {},
     "output_type": "execute_result"
    }
   ],
   "source": [
    "data.shape"
   ]
  },
  {
   "cell_type": "code",
   "execution_count": 4,
   "metadata": {},
   "outputs": [
    {
     "data": {
      "text/html": [
       "<div>\n",
       "<style scoped>\n",
       "    .dataframe tbody tr th:only-of-type {\n",
       "        vertical-align: middle;\n",
       "    }\n",
       "\n",
       "    .dataframe tbody tr th {\n",
       "        vertical-align: top;\n",
       "    }\n",
       "\n",
       "    .dataframe thead th {\n",
       "        text-align: right;\n",
       "    }\n",
       "</style>\n",
       "<table border=\"1\" class=\"dataframe\">\n",
       "  <thead>\n",
       "    <tr style=\"text-align: right;\">\n",
       "      <th></th>\n",
       "      <th>Unnamed: 0</th>\n",
       "      <th>Sal</th>\n",
       "      <th>Temp</th>\n",
       "    </tr>\n",
       "  </thead>\n",
       "  <tbody>\n",
       "    <tr>\n",
       "      <th>0</th>\n",
       "      <td>0</td>\n",
       "      <td>33.440</td>\n",
       "      <td>10.50</td>\n",
       "    </tr>\n",
       "    <tr>\n",
       "      <th>1</th>\n",
       "      <td>1</td>\n",
       "      <td>33.440</td>\n",
       "      <td>10.46</td>\n",
       "    </tr>\n",
       "    <tr>\n",
       "      <th>2</th>\n",
       "      <td>2</td>\n",
       "      <td>33.437</td>\n",
       "      <td>10.46</td>\n",
       "    </tr>\n",
       "    <tr>\n",
       "      <th>3</th>\n",
       "      <td>3</td>\n",
       "      <td>33.420</td>\n",
       "      <td>10.45</td>\n",
       "    </tr>\n",
       "    <tr>\n",
       "      <th>4</th>\n",
       "      <td>4</td>\n",
       "      <td>33.421</td>\n",
       "      <td>10.45</td>\n",
       "    </tr>\n",
       "  </tbody>\n",
       "</table>\n",
       "</div>"
      ],
      "text/plain": [
       "   Unnamed: 0     Sal   Temp\n",
       "0           0  33.440  10.50\n",
       "1           1  33.440  10.46\n",
       "2           2  33.437  10.46\n",
       "3           3  33.420  10.45\n",
       "4           4  33.421  10.45"
      ]
     },
     "execution_count": 4,
     "metadata": {},
     "output_type": "execute_result"
    }
   ],
   "source": [
    "data.head()"
   ]
  },
  {
   "cell_type": "code",
   "execution_count": 5,
   "metadata": {},
   "outputs": [],
   "source": [
    "data.drop(columns = 'Unnamed: 0',inplace = True)"
   ]
  },
  {
   "cell_type": "code",
   "execution_count": 6,
   "metadata": {},
   "outputs": [
    {
     "data": {
      "text/html": [
       "<div>\n",
       "<style scoped>\n",
       "    .dataframe tbody tr th:only-of-type {\n",
       "        vertical-align: middle;\n",
       "    }\n",
       "\n",
       "    .dataframe tbody tr th {\n",
       "        vertical-align: top;\n",
       "    }\n",
       "\n",
       "    .dataframe thead th {\n",
       "        text-align: right;\n",
       "    }\n",
       "</style>\n",
       "<table border=\"1\" class=\"dataframe\">\n",
       "  <thead>\n",
       "    <tr style=\"text-align: right;\">\n",
       "      <th></th>\n",
       "      <th>Sal</th>\n",
       "      <th>Temp</th>\n",
       "    </tr>\n",
       "  </thead>\n",
       "  <tbody>\n",
       "    <tr>\n",
       "      <th>0</th>\n",
       "      <td>33.440</td>\n",
       "      <td>10.50</td>\n",
       "    </tr>\n",
       "    <tr>\n",
       "      <th>1</th>\n",
       "      <td>33.440</td>\n",
       "      <td>10.46</td>\n",
       "    </tr>\n",
       "    <tr>\n",
       "      <th>2</th>\n",
       "      <td>33.437</td>\n",
       "      <td>10.46</td>\n",
       "    </tr>\n",
       "    <tr>\n",
       "      <th>3</th>\n",
       "      <td>33.420</td>\n",
       "      <td>10.45</td>\n",
       "    </tr>\n",
       "    <tr>\n",
       "      <th>4</th>\n",
       "      <td>33.421</td>\n",
       "      <td>10.45</td>\n",
       "    </tr>\n",
       "  </tbody>\n",
       "</table>\n",
       "</div>"
      ],
      "text/plain": [
       "      Sal   Temp\n",
       "0  33.440  10.50\n",
       "1  33.440  10.46\n",
       "2  33.437  10.46\n",
       "3  33.420  10.45\n",
       "4  33.421  10.45"
      ]
     },
     "execution_count": 6,
     "metadata": {},
     "output_type": "execute_result"
    }
   ],
   "source": [
    "data.head()"
   ]
  },
  {
   "cell_type": "code",
   "execution_count": 7,
   "metadata": {},
   "outputs": [
    {
     "data": {
      "text/html": [
       "<div>\n",
       "<style scoped>\n",
       "    .dataframe tbody tr th:only-of-type {\n",
       "        vertical-align: middle;\n",
       "    }\n",
       "\n",
       "    .dataframe tbody tr th {\n",
       "        vertical-align: top;\n",
       "    }\n",
       "\n",
       "    .dataframe thead th {\n",
       "        text-align: right;\n",
       "    }\n",
       "</style>\n",
       "<table border=\"1\" class=\"dataframe\">\n",
       "  <thead>\n",
       "    <tr style=\"text-align: right;\">\n",
       "      <th></th>\n",
       "      <th>Sal</th>\n",
       "      <th>Temp</th>\n",
       "    </tr>\n",
       "  </thead>\n",
       "  <tbody>\n",
       "    <tr>\n",
       "      <th>count</th>\n",
       "      <td>500.000000</td>\n",
       "      <td>500.000000</td>\n",
       "    </tr>\n",
       "    <tr>\n",
       "      <th>mean</th>\n",
       "      <td>33.622440</td>\n",
       "      <td>7.850680</td>\n",
       "    </tr>\n",
       "    <tr>\n",
       "      <th>std</th>\n",
       "      <td>0.561938</td>\n",
       "      <td>2.908671</td>\n",
       "    </tr>\n",
       "    <tr>\n",
       "      <th>min</th>\n",
       "      <td>32.630000</td>\n",
       "      <td>2.780000</td>\n",
       "    </tr>\n",
       "    <tr>\n",
       "      <th>25%</th>\n",
       "      <td>33.057750</td>\n",
       "      <td>5.035000</td>\n",
       "    </tr>\n",
       "    <tr>\n",
       "      <th>50%</th>\n",
       "      <td>33.788500</td>\n",
       "      <td>8.170000</td>\n",
       "    </tr>\n",
       "    <tr>\n",
       "      <th>75%</th>\n",
       "      <td>34.130000</td>\n",
       "      <td>10.450000</td>\n",
       "    </tr>\n",
       "    <tr>\n",
       "      <th>max</th>\n",
       "      <td>34.450000</td>\n",
       "      <td>12.660000</td>\n",
       "    </tr>\n",
       "  </tbody>\n",
       "</table>\n",
       "</div>"
      ],
      "text/plain": [
       "              Sal        Temp\n",
       "count  500.000000  500.000000\n",
       "mean    33.622440    7.850680\n",
       "std      0.561938    2.908671\n",
       "min     32.630000    2.780000\n",
       "25%     33.057750    5.035000\n",
       "50%     33.788500    8.170000\n",
       "75%     34.130000   10.450000\n",
       "max     34.450000   12.660000"
      ]
     },
     "execution_count": 7,
     "metadata": {},
     "output_type": "execute_result"
    }
   ],
   "source": [
    "data.describe()"
   ]
  },
  {
   "cell_type": "code",
   "execution_count": 8,
   "metadata": {},
   "outputs": [
    {
     "name": "stdout",
     "output_type": "stream",
     "text": [
      "<class 'pandas.core.frame.DataFrame'>\n",
      "RangeIndex: 500 entries, 0 to 499\n",
      "Data columns (total 2 columns):\n",
      " #   Column  Non-Null Count  Dtype  \n",
      "---  ------  --------------  -----  \n",
      " 0   Sal     500 non-null    float64\n",
      " 1   Temp    500 non-null    float64\n",
      "dtypes: float64(2)\n",
      "memory usage: 7.9 KB\n"
     ]
    }
   ],
   "source": [
    "data.info(())"
   ]
  },
  {
   "cell_type": "code",
   "execution_count": 9,
   "metadata": {},
   "outputs": [
    {
     "data": {
      "text/plain": [
       "Text(0, 0.5, 'Temp')"
      ]
     },
     "execution_count": 9,
     "metadata": {},
     "output_type": "execute_result"
    },
    {
     "data": {
      "image/png": "[encoded data removed]",
      "text/plain": [
       "<Figure size 432x288 with 1 Axes>"
      ]
     },
     "metadata": {
      "needs_background": "light"
     },
     "output_type": "display_data"
    }
   ],
   "source": [
    "plt.scatter('Sal' , 'Temp',data=data ,s =2 ,c ='green')\n",
    "plt.xlabel('Sal')\n",
    "plt.ylabel('Temp')"
   ]
  },
  {
   "cell_type": "code",
   "execution_count": 10,
   "metadata": {},
   "outputs": [],
   "source": [
    "data.fillna(method ='ffill', inplace = True)\n",
    "data.dropna(inplace = True)"
   ]
  },
  {
   "cell_type": "markdown",
   "metadata": {},
   "source": [
    "# train test split "
   ]
  },
  {
   "cell_type": "code",
   "execution_count": 11,
   "metadata": {},
   "outputs": [],
   "source": [
    "from sklearn.model_selection import train_test_split"
   ]
  },
  {
   "cell_type": "code",
   "execution_count": 12,
   "metadata": {},
   "outputs": [],
   "source": [
    "X = np.array(data['Sal']).reshape(-1, 1)\n",
    "y = np.array(data['Temp']).reshape(-1, 1)\n",
    "X_train, X_test, y_train, y_test = train_test_split(X, y, test_size = 0.25 ,random_state =101)"
   ]
  },
  {
   "cell_type": "markdown",
   "metadata": {},
   "source": [
    "# fit the model"
   ]
  },
  {
   "cell_type": "code",
   "execution_count": 13,
   "metadata": {},
   "outputs": [],
   "source": [
    "from sklearn.linear_model import LinearRegression"
   ]
  },
  {
   "cell_type": "code",
   "execution_count": 14,
   "metadata": {
    "scrolled": true
   },
   "outputs": [
    {
     "data": {
      "text/plain": [
       "LinearRegression()"
      ]
     },
     "execution_count": 14,
     "metadata": {},
     "output_type": "execute_result"
    }
   ],
   "source": [
    "regr = LinearRegression()\n",
    "regr.fit(X_train, y_train)"
   ]
  },
  {
   "cell_type": "code",
   "execution_count": 15,
   "metadata": {},
   "outputs": [
    {
     "name": "stdout",
     "output_type": "stream",
     "text": [
      "0.8467632247784973\n"
     ]
    }
   ],
   "source": [
    "# check the score\n",
    "print(regr.score(X_test, y_test))"
   ]
  },
  {
   "cell_type": "code",
   "execution_count": 16,
   "metadata": {},
   "outputs": [],
   "source": [
    "#prediction of our regression model for X_test data\n",
    "y_pred = regr.predict(X_test)"
   ]
  },
  {
   "cell_type": "code",
   "execution_count": 17,
   "metadata": {},
   "outputs": [
    {
     "data": {
      "text/plain": [
       "array([[ 6.4017888 ],\n",
       "       [ 8.09097737],\n",
       "       [ 8.2665391 ],\n",
       "       [ 8.79796921],\n",
       "       [11.35547662],\n",
       "       [11.52629344],\n",
       "       [11.03282262],\n",
       "       [ 6.32587022],\n",
       "       [ 5.85612396],\n",
       "       [10.4159841 ],\n",
       "       [ 6.05066534],\n",
       "       [ 9.28195021],\n",
       "       [12.40884702],\n",
       "       [ 9.43853229],\n",
       "       [12.34716317],\n",
       "       [ 7.80153776],\n",
       "       [ 5.20132614],\n",
       "       [ 6.36382951],\n",
       "       [11.89165164],\n",
       "       [ 4.38045642],\n",
       "       [ 7.75883355],\n",
       "       [ 5.0210195 ],\n",
       "       [11.69711026],\n",
       "       [ 5.48127593],\n",
       "       [ 5.81341975],\n",
       "       [12.17634634],\n",
       "       [ 6.31638039],\n",
       "       [11.23210892],\n",
       "       [12.40884702],\n",
       "       [ 5.43382682],\n",
       "       [ 6.14556357],\n",
       "       [ 8.70781589],\n",
       "       [ 6.64852421],\n",
       "       [ 6.37331933],\n",
       "       [ 4.32826239],\n",
       "       [11.55476291],\n",
       "       [11.08501665],\n",
       "       [ 6.53939124],\n",
       "       [ 4.86443741],\n",
       "       [10.34006552],\n",
       "       [ 6.25469654],\n",
       "       [ 4.18117013],\n",
       "       [ 4.55601815],\n",
       "       [ 4.45637501],\n",
       "       [11.88690673],\n",
       "       [11.7920085 ],\n",
       "       [ 4.95933565],\n",
       "       [ 5.41484717],\n",
       "       [11.61644676],\n",
       "       [ 6.28791092],\n",
       "       [11.7920085 ],\n",
       "       [12.03874391],\n",
       "       [10.60578057],\n",
       "       [ 8.72205063],\n",
       "       [ 5.06846862],\n",
       "       [ 4.47535465],\n",
       "       [12.49900034],\n",
       "       [10.17873852],\n",
       "       [ 9.98894205],\n",
       "       [10.97113877],\n",
       "       [10.60578057],\n",
       "       [ 6.71495298],\n",
       "       [11.27006821],\n",
       "       [ 6.71969789],\n",
       "       [ 5.9557671 ],\n",
       "       [ 6.9664333 ],\n",
       "       [ 9.45276703],\n",
       "       [11.4693545 ],\n",
       "       [ 6.05066534],\n",
       "       [ 7.09454591],\n",
       "       [12.04348882],\n",
       "       [ 4.69362059],\n",
       "       [ 4.5749978 ],\n",
       "       [ 6.14556357],\n",
       "       [ 6.97117821],\n",
       "       [11.36496644],\n",
       "       [ 6.05066534],\n",
       "       [ 9.44802212],\n",
       "       [ 6.02219587],\n",
       "       [ 5.29147947],\n",
       "       [11.03282262],\n",
       "       [ 4.42316062],\n",
       "       [ 7.25587291],\n",
       "       [ 8.80271412],\n",
       "       [10.74812792],\n",
       "       [ 4.67464094],\n",
       "       [ 4.42790554],\n",
       "       [ 7.94863002],\n",
       "       [10.52511707],\n",
       "       [11.45986468],\n",
       "       [ 6.31638039],\n",
       "       [ 7.05658662],\n",
       "       [ 4.45163009],\n",
       "       [ 5.27724473],\n",
       "       [ 4.95933565],\n",
       "       [11.27006821],\n",
       "       [ 4.58923253],\n",
       "       [12.40884702],\n",
       "       [10.22618763],\n",
       "       [ 4.779029  ],\n",
       "       [ 8.77898957],\n",
       "       [10.22618763],\n",
       "       [ 4.86443741],\n",
       "       [ 9.40531791],\n",
       "       [ 7.54056761],\n",
       "       [ 4.43739536],\n",
       "       [ 8.01980369],\n",
       "       [ 4.25708871],\n",
       "       [11.43139521],\n",
       "       [ 6.35433969],\n",
       "       [ 6.38280916],\n",
       "       [ 8.61291766],\n",
       "       [11.08027174],\n",
       "       [ 3.91545507],\n",
       "       [ 4.88816197],\n",
       "       [ 4.24759889],\n",
       "       [ 8.70781589],\n",
       "       [ 6.84306559],\n",
       "       [ 6.28316601],\n",
       "       [11.56425273],\n",
       "       [ 6.05066534],\n",
       "       [ 5.66158258],\n",
       "       [ 4.3709666 ],\n",
       "       [ 9.1585825 ],\n",
       "       [ 5.19658123]])"
      ]
     },
     "execution_count": 17,
     "metadata": {},
     "output_type": "execute_result"
    }
   ],
   "source": [
    "y_pred"
   ]
  },
  {
   "cell_type": "code",
   "execution_count": 18,
   "metadata": {},
   "outputs": [
    {
     "data": {
      "text/plain": [
       "array([[8.42312119]])"
      ]
     },
     "execution_count": 18,
     "metadata": {},
     "output_type": "execute_result"
    }
   ],
   "source": [
    "#prediction of our rergression  model for a single value\n",
    "regr.predict([[33.50]])"
   ]
  },
  {
   "cell_type": "markdown",
   "metadata": {},
   "source": [
    "# visualization"
   ]
  },
  {
   "cell_type": "code",
   "execution_count": 19,
   "metadata": {},
   "outputs": [
    {
     "data": {
      "image/png": "[encoded data removed]",
      "text/plain": [
       "<Figure size 432x288 with 1 Axes>"
      ]
     },
     "metadata": {
      "needs_background": "light"
     },
     "output_type": "display_data"
    }
   ],
   "source": [
    "# training set\n",
    "plt.scatter(X_train, y_train, color ='b')\n",
    "plt.plot(X_test, y_pred, color ='k')\n",
    "  \n",
    "plt.show()"
   ]
  },
  {
   "cell_type": "code",
   "execution_count": 20,
   "metadata": {},
   "outputs": [
    {
     "data": {
      "image/png": "[encoded data removed]",
      "text/plain": [
       "<Figure size 432x288 with 1 Axes>"
      ]
     },
     "metadata": {
      "needs_background": "light"
     },
     "output_type": "display_data"
    }
   ],
   "source": [
    "#test set\n",
    "y_pred = regr.predict(X_test)\n",
    "plt.scatter(X_test, y_test, color ='b')\n",
    "plt.plot(X_test, y_pred, color ='k')\n",
    "  \n",
    "plt.show()"
   ]
  },
  {
   "cell_type": "code",
   "execution_count": 21,
   "metadata": {},
   "outputs": [
    {
     "name": "stdout",
     "output_type": "stream",
     "text": [
      "[8.26]\t\t[6.4017888]\n",
      "[7.53]\t\t[8.09097737]\n",
      "[8.6]\t\t[8.2665391]\n",
      "[10.45]\t\t[8.79796921]\n",
      "[11.61]\t\t[11.35547662]\n",
      "[11.35]\t\t[11.52629344]\n",
      "[9.69]\t\t[11.03282262]\n",
      "[5.21]\t\t[6.32587022]\n",
      "[5.54]\t\t[5.85612396]\n",
      "[9.4]\t\t[10.4159841]\n",
      "[7.13]\t\t[6.05066534]\n",
      "[10.81]\t\t[9.28195021]\n",
      "[10.14]\t\t[12.40884702]\n",
      "[9.79]\t\t[9.43853229]\n",
      "[9.92]\t\t[12.34716317]\n",
      "[8.26]\t\t[7.80153776]\n",
      "[4.39]\t\t[5.20132614]\n",
      "[7.1]\t\t[6.36382951]\n",
      "[11.49]\t\t[11.89165164]\n",
      "[3.54]\t\t[4.38045642]\n",
      "[9.5]\t\t[7.75883355]\n",
      "[3.89]\t\t[5.0210195]\n",
      "[11.23]\t\t[11.69711026]\n",
      "[4.11]\t\t[5.48127593]\n",
      "[4.44]\t\t[5.81341975]\n",
      "[11.48]\t\t[12.17634634]\n",
      "[6.56]\t\t[6.31638039]\n",
      "[11.4]\t\t[11.23210892]\n",
      "[9.94]\t\t[12.40884702]\n",
      "[5.48]\t\t[5.43382682]\n",
      "[7.96]\t\t[6.14556357]\n",
      "[8.88]\t\t[8.70781589]\n",
      "[7.61]\t\t[6.64852421]\n",
      "[6.07]\t\t[6.37331933]\n",
      "[3.28]\t\t[4.32826239]\n",
      "[11.61]\t\t[11.55476291]\n",
      "[9.75]\t\t[11.08501665]\n",
      "[7.37]\t\t[6.53939124]\n",
      "[3.76]\t\t[4.86443741]\n",
      "[12.49]\t\t[10.34006552]\n",
      "[7.91]\t\t[6.25469654]\n",
      "[3.1]\t\t[4.18117013]\n",
      "[3.89]\t\t[4.55601815]\n",
      "[3.66]\t\t[4.45637501]\n",
      "[11.5]\t\t[11.88690673]\n",
      "[9.42]\t\t[11.7920085]\n",
      "[4.01]\t\t[4.95933565]\n",
      "[6.17]\t\t[5.41484717]\n",
      "[11.31]\t\t[11.61644676]\n",
      "[6.94]\t\t[6.28791092]\n",
      "[11.3]\t\t[11.7920085]\n",
      "[9.85]\t\t[12.03874391]\n",
      "[12.24]\t\t[10.60578057]\n",
      "[10.46]\t\t[8.72205063]\n",
      "[4.07]\t\t[5.06846862]\n",
      "[3.76]\t\t[4.47535465]\n",
      "[9.97]\t\t[12.49900034]\n",
      "[12.2]\t\t[10.17873852]\n",
      "[12.64]\t\t[9.98894205]\n",
      "[11.99]\t\t[10.97113877]\n",
      "[12.64]\t\t[10.60578057]\n",
      "[8.16]\t\t[6.71495298]\n",
      "[11.36]\t\t[11.27006821]\n",
      "[7.57]\t\t[6.71969789]\n",
      "[7.55]\t\t[5.9557671]\n",
      "[7.42]\t\t[6.9664333]\n",
      "[12.52]\t\t[9.45276703]\n",
      "[12.23]\t\t[11.4693545]\n",
      "[5.14]\t\t[6.05066534]\n",
      "[7.5]\t\t[7.09454591]\n",
      "[10.34]\t\t[12.04348882]\n",
      "[3.88]\t\t[4.69362059]\n",
      "[4.48]\t\t[4.5749978]\n",
      "[6.68]\t\t[6.14556357]\n",
      "[7.98]\t\t[6.97117821]\n",
      "[11.64]\t\t[11.36496644]\n",
      "[5.6]\t\t[6.05066534]\n",
      "[9.49]\t\t[9.44802212]\n",
      "[5.11]\t\t[6.02219587]\n",
      "[5.3]\t\t[5.29147947]\n",
      "[11.7]\t\t[11.03282262]\n",
      "[3.32]\t\t[4.42316062]\n",
      "[8.32]\t\t[7.25587291]\n",
      "[10.06]\t\t[8.80271412]\n",
      "[10.9]\t\t[10.74812792]\n",
      "[4.21]\t\t[4.67464094]\n",
      "[3.48]\t\t[4.42790554]\n",
      "[8.37]\t\t[7.94863002]\n",
      "[12.64]\t\t[10.52511707]\n",
      "[11.4]\t\t[11.45986468]\n",
      "[6.54]\t\t[6.31638039]\n",
      "[8.24]\t\t[7.05658662]\n",
      "[3.18]\t\t[4.45163009]\n",
      "[5.57]\t\t[5.27724473]\n",
      "[4.84]\t\t[4.95933565]\n",
      "[12.2]\t\t[11.27006821]\n",
      "[4.14]\t\t[4.58923253]\n",
      "[9.9]\t\t[12.40884702]\n",
      "[12.6]\t\t[10.22618763]\n",
      "[3.63]\t\t[4.779029]\n",
      "[8.83]\t\t[8.77898957]\n",
      "[9.23]\t\t[10.22618763]\n",
      "[3.52]\t\t[4.86443741]\n",
      "[9.91]\t\t[9.40531791]\n",
      "[7.69]\t\t[7.54056761]\n",
      "[3.99]\t\t[4.43739536]\n",
      "[8.56]\t\t[8.01980369]\n",
      "[3.62]\t\t[4.25708871]\n",
      "[11.35]\t\t[11.43139521]\n",
      "[7.61]\t\t[6.35433969]\n",
      "[6.98]\t\t[6.38280916]\n",
      "[8.92]\t\t[8.61291766]\n",
      "[11.99]\t\t[11.08027174]\n",
      "[3.35]\t\t[3.91545507]\n",
      "[4.31]\t\t[4.88816197]\n",
      "[3.08]\t\t[4.24759889]\n",
      "[9.73]\t\t[8.70781589]\n",
      "[7.5]\t\t[6.84306559]\n",
      "[8.39]\t\t[6.28316601]\n",
      "[11.58]\t\t[11.56425273]\n",
      "[5.86]\t\t[6.05066534]\n",
      "[4.73]\t\t[5.66158258]\n",
      "[3.85]\t\t[4.3709666]\n",
      "[10.8]\t\t[9.1585825]\n",
      "[4.37]\t\t[5.19658123]\n"
     ]
    }
   ],
   "source": [
    "for x, y in zip(y_test, y_pred):\n",
    "    print(x, y, sep='\\t\\t')   "
   ]
  },
  {
   "cell_type": "code",
   "execution_count": 22,
   "metadata": {},
   "outputs": [],
   "source": [
    "#check the coefficient"
   ]
  },
  {
   "cell_type": "code",
   "execution_count": 23,
   "metadata": {},
   "outputs": [
    {
     "data": {
      "text/plain": [
       "array([[-4.7449117]])"
      ]
     },
     "execution_count": 23,
     "metadata": {},
     "output_type": "execute_result"
    }
   ],
   "source": [
    "regr.coef_"
   ]
  },
  {
   "cell_type": "markdown",
   "metadata": {},
   "source": [
    "## Evaluation Metrics for regression\n",
    "\n",
    "\n",
    "Here are three common evaluation metrics for regression problems:\n",
    "\n",
    "**Mean Absolute Error** (MAE) \n",
    "\n",
    "$$\\frac 1n\\sum_{i=1}^n|y_i-\\hat{y}_i|$$\n",
    "\n",
    "**Mean Squared Error** (MSE) \n",
    "\n",
    "$$\\frac 1n\\sum_{i=1}^n(y_i-\\hat{y}_i)^2$$\n",
    "\n",
    "**Root Mean Squared Error** (RMSE)\n",
    "\n",
    "$$\\sqrt{\\frac 1n\\sum_{i=1}^n(y_i-\\hat{y}_i)^2}$$\n"
   ]
  },
  {
   "cell_type": "code",
   "execution_count": 24,
   "metadata": {},
   "outputs": [],
   "source": [
    "from sklearn import metrics"
   ]
  },
  {
   "cell_type": "code",
   "execution_count": 25,
   "metadata": {},
   "outputs": [
    {
     "name": "stdout",
     "output_type": "stream",
     "text": [
      "MAE: 0.9509864570006664\n",
      "MSE: 1.3898161886079463\n",
      "RMSE: 1.1789046562839365\n"
     ]
    }
   ],
   "source": [
    "print('MAE:', metrics.mean_absolute_error(y_test,y_pred))\n",
    "print('MSE:', metrics.mean_squared_error(y_test, y_pred))\n",
    "print('RMSE:', np.sqrt(metrics.mean_squared_error(y_test, y_pred)))"
   ]
  }
 ],
 "metadata": {
  "kernelspec": {
   "display_name": "Python 3",
   "language": "python",
   "name": "python3"
  },
  "language_info": {
   "codemirror_mode": {
    "name": "ipython",
    "version": 3
   },
   "file_extension": ".py",
   "mimetype": "text/x-python",
   "name": "python",
   "nbconvert_exporter": "python",
   "pygments_lexer": "ipython3",
   "version": "3.8.8"
  }
 },
 "nbformat": 4,
 "nbformat_minor": 4
}
